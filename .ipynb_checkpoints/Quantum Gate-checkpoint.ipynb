{
 "cells": [
  {
   "cell_type": "code",
   "execution_count": 2,
   "metadata": {
    "collapsed": false
   },
   "outputs": [],
   "source": [
    "# VALUE FOR 1/(2**1/2)\n",
    "m = 0.70710678118 "
   ]
  },
  {
   "cell_type": "code",
   "execution_count": 3,
   "metadata": {
    "collapsed": false
   },
   "outputs": [],
   "source": [
    "# DISPLAYS WHETHER THE QUBIT IN THE STATE |0⟩,|1⟩,|+⟩,|-⟩\n",
    "def initial_state(alpha,beta):\n",
    "    if alpha==0:\n",
    "        if beta==1:\n",
    "            print(\"Orignal: |1⟩\")\n",
    "        else:\n",
    "            print(\"Error\")\n",
    "    elif alpha==1:\n",
    "        if beta==0:\n",
    "            print(\"Orignal: |0⟩\")\n",
    "        else:\n",
    "            print(\"Error\")\n",
    "    elif int(alpha*1000)==707:\n",
    "        if int(beta*1000)==707:\n",
    "            print(\"Orignal: |+⟩\")\n",
    "        elif int(beta*1000)==-707:\n",
    "            print(\"Orignal: |-⟩\")\n",
    "        else:\n",
    "            print(\"Error\")\n",
    "    else:\n",
    "        print(\"Error\")\n",
    "    return alpha\n",
    "    return beta"
   ]
  },
  {
   "cell_type": "code",
   "execution_count": 4,
   "metadata": {
    "collapsed": false,
    "scrolled": true
   },
   "outputs": [],
   "source": [
    "#PERORMS THE FUNCTIONS OF VARIOUS QUANTUM GATES FOR ONE QUBIT\n",
    "\n",
    "import random, math, pylab\n",
    "import numpy as np\n",
    "\n",
    "def Pauli_X_Gate(alpha,beta):\n",
    "    print(\"Bit Flip Quantum Gate:\")\n",
    "    pauli_X_matrix = np.matrix('0 1; 1 0')\n",
    "    input_matrix = np.matrix([[alpha], [beta]])\n",
    "    result_matrix = pauli_X_matrix*input_matrix\n",
    "    print(\" the |0> = :\",result_matrix[0])\n",
    "    print(\" the |1> = :\",result_matrix[1])\n",
    "    result_matrix=np.array(result_matrix).flatten()\n",
    "    return(result_matrix)\n",
    "\n",
    "def Pauli_Z_Gate(alpha,beta):\n",
    "    print(\"Phase Flip Quantum Gate:\")\n",
    "    pauli_Z_matrix = np.matrix('1 0; 0 -1')\n",
    "    input_matrix = np.matrix([[alpha], [beta]])\n",
    "    result_matrix = pauli_Z_matrix*input_matrix\n",
    "    print(\" the |0> = :\",result_matrix[0])\n",
    "    print(\" the |1> = :\",result_matrix[1])\n",
    "    result_matrix = np.array(result_matrix).flatten()\n",
    "    return(result_matrix)\n",
    "\n",
    "def Hadamard_Gate(alpha,beta):\n",
    "    print(\"Hadamard Transform Quantum Gate:\")\n",
    "    Hadamard_matrix = np.matrix('0.70710678118 0.70710678118; 0.70710678118 -0.70710678118')\n",
    "    input_matrix = np.matrix([[alpha], [beta]])\n",
    "    result_matrix = Hadamard_matrix*input_matrix\n",
    "    print(\" the |0> = :\",result_matrix[0])\n",
    "    print(\" the |1> = :\",result_matrix[1])\n",
    "    result_matrix=np.array(result_matrix).flatten()\n",
    "    return(result_matrix)\n",
    "\n",
    "def Phase_Shift_Gate(alpha,beta,angle):\n",
    "    print(\"Rotation Quantum Gate:\")    \n",
    "    cosx=math.acos(angle)\n",
    "    sinx=math.asin(angle)\n",
    "    R_matrix = np.matrix([[cosx , -sinx], [sinx, cosx]])\n",
    "    input_matrix = np.matrix([[alpha], [beta]])\n",
    "    result_matrix = R_matrix*input_matrix\n",
    "    print(\" the |0> = :\",result_matrix[0])\n",
    "    print(\" the |1> = :\",result_matrix[1])\n",
    "    result_matrix=np.array(result_matrix).flatten()\n",
    "    return(result_matrix)"
   ]
  },
  {
   "cell_type": "code",
   "execution_count": 5,
   "metadata": {
    "collapsed": false
   },
   "outputs": [],
   "source": [
    "# DISPLAYS THE RESULTS OF THE UNITARY TRANSFORMATION WITH ONE QUIBIT\n",
    "def result_unitary_1(matrix_UT):\n",
    "    print(\"\")\n",
    "    matrix_UT[0]=matrix_UT[0]*1000\n",
    "    matrix_UT[1]=matrix_UT[1]*1000\n",
    "    if int(matrix_UT[0])<1000 and int(matrix_UT[0])>0 and int(matrix_UT[0])!= 707 and int(matrix_UT[0])!= -707:\n",
    "        matrix_UT[0]=1000\n",
    "    elif int(matrix_UT[1])<1000 and int(matrix_UT[1])>0 and int(matrix_UT[0])!= 707 and int(matrix_UT[0])!= -707:\n",
    "        matrix_UT[1]=1000 \n",
    "    if int(matrix_UT[0]) == 1000 and int(matrix_UT[1]) == 0:\n",
    "        print (\"resulting unitary transformation:\")\n",
    "        print (\"|0⟩\")\n",
    "    elif int(matrix_UT[0]) == 0 and int(matrix_UT[1]) == -1000:\n",
    "        print (\"resulting unitary transformation:\")\n",
    "        print (\"-|1⟩\")\n",
    "    elif int(matrix_UT[0]) == 0 and int(matrix_UT[1]) == 1000: \n",
    "        print (\"resulting unitary transformation:\")\n",
    "        print (\"|1⟩\")\n",
    "    elif int(matrix_UT[0]) ==  707 and int(matrix_UT[1]) ==  -707: \n",
    "        print (\"resulting unitary transformation:\")\n",
    "        print (\"|-⟩\")\n",
    "    elif int(matrix_UT[0]) == 707 and int(matrix_UT[1]) == 707: \n",
    "        print (\"resulting unitary transformation:\")\n",
    "        print (\"|+⟩\")\n",
    "    elif int(matrix_UT[0]) == -707 and int(matrix_UT[1]) == 707: \n",
    "        print (\"resulting unitary transformation:\")\n",
    "        print (\"-|+⟩\")\n",
    "    else: \n",
    "        print(\"error\")\n",
    "\n"
   ]
  },
  {
   "cell_type": "code",
   "execution_count": 6,
   "metadata": {
    "collapsed": false
   },
   "outputs": [
    {
     "name": "stdout",
     "output_type": "stream",
     "text": [
      "Bit Flip Quantum Gate:\n",
      " the |0> = : [[1]]\n",
      " the |1> = : [[0]]\n",
      "\n",
      "resulting unitary transformation:\n",
      "|0⟩\n"
     ]
    }
   ],
   "source": [
    "step1 = Pauli_X_Gate(0,1)\n",
    "result_unitary_1(step1)"
   ]
  },
  {
   "cell_type": "code",
   "execution_count": 7,
   "metadata": {
    "collapsed": false
   },
   "outputs": [],
   "source": [
    "# CONVERTS INDIVIDUAL QUIBITS TO A COMPOSITE SYSTEM\n",
    "def Qubit1Qubit2_composite(alpha_0,beta_0,alpha_1,beta_1):\n",
    "\n",
    "    alpha00 = alpha_0*alpha_1\n",
    "    alpha01 = alpha_0*beta_1\n",
    "    alpha10 = beta_0*alpha_1\n",
    "    alpha11 = beta_0*beta_1\n",
    "    composite = np.matrix([[alpha00 , alpha01],[ alpha10, alpha11]])\n",
    "    composite = np.array(composite).flatten()\n",
    "    print(\"Composite system: \")\n",
    "    print(composite)\n",
    "    return composite"
   ]
  },
  {
   "cell_type": "code",
   "execution_count": 8,
   "metadata": {
    "collapsed": false
   },
   "outputs": [
    {
     "name": "stdout",
     "output_type": "stream",
     "text": [
      "Composite system: \n",
      "[1 0 0 0]\n"
     ]
    },
    {
     "data": {
      "text/plain": [
       "array([1, 0, 0, 0])"
      ]
     },
     "execution_count": 8,
     "metadata": {},
     "output_type": "execute_result"
    }
   ],
   "source": [
    "Qubit1Qubit2_composite(1,0,1,0)"
   ]
  },
  {
   "cell_type": "code",
   "execution_count": 9,
   "metadata": {
    "collapsed": false
   },
   "outputs": [],
   "source": [
    "#CHANGING TYPES OF MATRICES\n",
    "def to1Dmatrix(alpha00,alpha01,alpha10,alpha11):\n",
    "    result = np.matrix([alpha00 , alpha01, alpha10, alpha11])\n",
    "    result = np.array(result).flatten()\n",
    "    return result\n",
    "def to2Dmatrix(alpha00,alpha01,alpha10,alpha11):\n",
    "    result = np.matrix([[alpha00 , alpha10], [alpha01, alpha11]])\n",
    "    return result\n",
    "def from1Dto2Dmatrix(matrix):\n",
    "    result = np.matrix([[matrix[0] , matrix[1]], [matrix[2], matrix[3]]])\n",
    "    return result\n",
    "def from2Dto1Dmatrix(matrix):\n",
    "    result = np.matrix([matrix[0,0] , matrix[0,1], matrix[1,0], matrix[1,1]])\n",
    "    return result"
   ]
  },
  {
   "cell_type": "code",
   "execution_count": 10,
   "metadata": {
    "collapsed": false
   },
   "outputs": [],
   "source": [
    "#QUANTUM GATE WITH TWO QUIBITS\n",
    "def Qubitx2Gate(gate1,gate2,composite):\n",
    "    if gate1 == 'X':\n",
    "        gate1 = np.matrix('0 1; 1 0')\n",
    "    elif gate1 == 'Z':\n",
    "        gate1 = np.matrix('1 0; 0 -1')\n",
    "    elif gate1 == 'H':\n",
    "        gate1 = np.matrix('m m; m -m')\n",
    "    else:\n",
    "        gate1 = np.matrix('1 0; 0 1') \n",
    "        \n",
    "    if gate2 == 'X':\n",
    "        gate2 = np.matrix('0 1; 1 0')\n",
    "    elif gate2 == 'Z':\n",
    "        gate2 = np.matrix('1 0; 0 -1')\n",
    "    elif gate2 == 'H':\n",
    "        gate2 = np.matrix('m m; m -m')\n",
    "    else:\n",
    "        gate2 = np.matrix('1 0; 0 1') \n",
    "    \n",
    "    U00 = gate1[0,0]*gate2[0,0]\n",
    "    U01 = gate1[0,0]*gate2[0,1]\n",
    "    U10 = gate1[0,0]*gate2[1,0]\n",
    "    U11 = gate1[0,0]*gate2[1,1]\n",
    "    \n",
    "    U02 = gate1[0,1]*gate2[0,0]\n",
    "    U03 = gate1[0,1]*gate2[0,1]\n",
    "    U12 = gate1[0,1]*gate2[1,0]\n",
    "    U13 = gate1[0,1]*gate2[1,1]\n",
    "    \n",
    "    U20 = gate1[1,0]*gate2[0,0]\n",
    "    U21 = gate1[1,0]*gate2[0,1]\n",
    "    U30 = gate1[1,0]*gate2[1,0]\n",
    "    U31 = gate1[1,0]*gate2[1,1]\n",
    "    \n",
    "    U22 = gate1[1,1]*gate2[0,0]\n",
    "    U23 = gate1[1,1]*gate2[0,1]\n",
    "    U32 = gate1[1,1]*gate2[1,0]\n",
    "    U33 = gate1[1,1]*gate2[1,1]\n",
    "    \n",
    "    U = np.matrix([[U00,U01,U02,U03],[U10,U11,U12,U13],[U20,U21,U22,U23],[U30,U31,U32,U33]])\n",
    "\n",
    "    #matrix = np.array(matrix).flatten()\n",
    "    print(U)\n",
    "    Result =  composite * U\n",
    "    Result=np.array(Result).flatten()\n",
    "    print(\" the |00⟩ = :\",Result[0])\n",
    "    print(\" the |01⟩ = :\",Result[1])\n",
    "    print(\" the |10⟩ = :\",Result[2])\n",
    "    print(\" the |11⟩ = :\",Result[3])\n",
    "    return Result"
   ]
  },
  {
   "cell_type": "code",
   "execution_count": 11,
   "metadata": {
    "collapsed": true
   },
   "outputs": [],
   "source": [
    "#CNOT GATE ON A 2 QUIBIT COMPOSITE SYSTEM\n",
    "def CNOT_Gate(matrix):\n",
    "    CNOT_matrix = np.matrix([[1,0,0,0],[0,1,0,0],[0,0,0,1],[0,0,1,0]])\n",
    "    Result = matrix * CNOT \n",
    "    Result=np.array(Result).flatten()\n",
    "    print(\" the |00⟩ = :\",Result[0])\n",
    "    print(\" the |01⟩ = :\",Result[1])\n",
    "    print(\" the |10⟩ = :\",Result[2])\n",
    "    print(\" the |11⟩ = :\",Result[3])\n",
    "    return Result"
   ]
  },
  {
   "cell_type": "code",
   "execution_count": 12,
   "metadata": {
    "collapsed": false
   },
   "outputs": [],
   "source": [
    "# DISPLAYS THE RESULTS OF THE UNITARY TRANSFORMATION WITH 2 QUIBITS\n",
    "def result_unitary_2(matrix_UT):\n",
    "    print(\"\")\n",
    "    matrix_UT[0,0]=matrix_UT[0,0]*1000\n",
    "    matrix_UT[0,1]=matrix_UT[0,1]*1000\n",
    "    matrix_UT[1,0]=matrix_UT[1,0]*1000\n",
    "    matrix_UT[1,1]=matrix_UT[1,1]*1000\n",
    "    if matrix_UT[0,0] == 1000 and matrix_UT[0,1]==0 and matrix_UT[1,0] == 0 and matrix_UT[1,1] == 0 :\n",
    "        print(\"Unitary Transformation: \")\n",
    "        print(\"|00⟩\")\n",
    "    elif matrix_UT[0,0] == 0 and matrix_UT[0,1]== 1000 and matrix_UT[1,0] == 0 and matrix_UT[1,1] == 0 :\n",
    "        print(\"Unitary Transformation: \")\n",
    "        print(\"|01⟩\")\n",
    "    elif matrix_UT[0,0] == 0 and matrix_UT[0,1]==0 and matrix_UT[1,0] == 1000 and matrix_UT[1,1] == 0 :\n",
    "        print(\"Unitary Transformation: \")\n",
    "        print(\"|10⟩\")  \n",
    "    elif matrix_UT[0,0] == 0 and matrix_UT[0,1]==0 and matrix_UT[1,0] == 0 and matrix_UT[1,1] == 1000 :\n",
    "        print(\"Unitary Transformation: \")\n",
    "        print(\"|11⟩\") \n",
    "    elif int(matrix_UT[0,0]) == 707 or int(matrix_UT[0,1]) == 707 or int(matrix_UT[1,0]) == 707 or int(matrix_UT[1,1]) == 707:\n",
    "        if int(matrix_UT[0,0]) == 707 and int(matrix_UT[0,1]) == 0 and int(matrix_UT[1,0]) == 0 and int(matrix_UT[1,1]) == 707:\n",
    "            print(\"Unitary Transformation\")\n",
    "            print(\"Bell State is |Φ+⟩\")\n",
    "        elif int(matrix_UT[0,0]) == 707 and int(matrix_UT[0,1]) == 0 and int(matrix_UT[1,0]) == 0 and int(matrix_UT[1,1]) == -707:\n",
    "            print(\"Unitary Transformation\")\n",
    "            print(\"Bell State is |Φ-⟩\")\n",
    "        elif int(matrix_UT[0,0]) == 0 and int(matrix_UT[0,1]) == 707 and int(matrix_UT[1,0]) == 707 and int(matrix_UT[1,1]) == 0:\n",
    "            print(\"Unitary Transformation\")\n",
    "            print(\"Bell State is |Ψ+⟩\")\n",
    "        elif int(matrix_UT[0,0]) == 0 and int(matrix_UT[0,1]) == 707 and int(matrix_UT[1,0]) == -707 and int(matrix_UT[1,1]) == 0:\n",
    "            print(\"Unitary Transformation\")\n",
    "            print(\"Bell State is |Ψ-⟩\")\n",
    "        else:\n",
    "            print(\"Error\")\n",
    "    else: \n",
    "        print(\"Error\")"
   ]
  },
  {
   "cell_type": "code",
   "execution_count": 13,
   "metadata": {
    "collapsed": false
   },
   "outputs": [],
   "source": [
    "# MEASURING A QUIBIT (DISPLAYS A PROBABILITY)\n",
    "def measurement(alpha,beta,measurement):\n",
    "    if measurement == 0 or measurement =='+':\n",
    "        probability = abs(alpha**2)\n",
    "        if int(alpha*1000) == 707:\n",
    "            probability = 0.5\n",
    "        if measurement == 0:\n",
    "            print(\"Probability that it is |0⟩:  \",probability)\n",
    "        else: \n",
    "            print(\"Probability that it is |+⟩:  \",probability)\n",
    "    elif measurement == 1 or measurement == '-':\n",
    "        probability = abs(beta**2)\n",
    "        if int(beta*1000) == 707:\n",
    "            probability = 0.5\n",
    "        if measurement == 1:\n",
    "            print(\"Probability that it is |1⟩:  \",probability)\n",
    "        else: \n",
    "            print(\"Probability that it is |-⟩:  \",probability)\n",
    "    else:\n",
    "        print (\"error\")"
   ]
  },
  {
   "cell_type": "code",
   "execution_count": 14,
   "metadata": {
    "collapsed": false
   },
   "outputs": [],
   "source": [
    "#EVIDENCE OF QUANTUM TELEPORTATION\n",
    "def Q_teleportation(alpha,beta): \n",
    "    print(\"Initial Result:\")\n",
    "    print(alpha,\"|0⟩ +\",beta,\"|1⟩\")\n",
    "    CNOT_3qubits = np.matrix([[1,0,0,0,0,0,0,0],[0,1,0,0,0,0,0,0],[0,0,1,0,0,0,0,0],[0,0,0,1,0,0,0,0],[0,0,0,0,1,0,0,0],[0,0,0,0,0,0,1,0],[0,0,0,0,0,1,0,0],[0,0,0,0,0,0,0,1]])\n",
    "    matrix_1x8 = np.matrix([(alpha/(2**0.5)),0,0,(alpha/(2**0.5)),(beta/(2**0.5)),0,0,(beta/(2**0.5))])\n",
    "    result = matrix_1x8 * CNOT_3qubits\n",
    "    result=np.array(result).flatten()\n",
    "    return result\n",
    "def measure(matrix,measurement):\n",
    "    print(\"\")\n",
    "    print(\"After applying CNOT gate:\")\n",
    "    print( matrix[0],\"|000⟩+\",matrix[3],\"|011⟩+\",matrix[4],\"|110⟩+\",matrix[7],\"|101⟩\")\n",
    "    if measurement == 0:\n",
    "        result = np.matrix([(matrix[0]*(2**0.5)), (matrix[7]*(2**0.5))])\n",
    "        result = np.array(result).flatten()\n",
    "        print(\"\")\n",
    "        print(\"After measuring:\")\n",
    "        print(result[0],\"|00⟩ +\",result[1],\"|11⟩\")\n",
    "    elif measurement == 1:\n",
    "        result = np.matrix([(matrix[3]*(2**0.5)), (matrix[4]*(2**0.5))])\n",
    "        result = np.array(result).flatten()\n",
    "        print(\"\")\n",
    "        print(\"After measuring:\")\n",
    "        print(result[0],\"|01⟩ +\",result[1],\"|10⟩\")\n",
    "        end = np.matrix([0,1,1,0])\n",
    "        end = np.array(end).flatten()\n",
    "        print(\"\")\n",
    "        step1 = Qubitx2Gate('X','I',end)\n",
    "        Step1_0= result[0]*step1[0]\n",
    "        Step1_3= result[1]*step1[3]\n",
    "        print(\"\")\n",
    "        if Step1_0 != 0 and step1[1] == 0 and step1[2] == 0 and Step1_3 != 0:\n",
    "            print(\"End Result:\")\n",
    "            print(Step1_0,\"|00⟩ +\",Step1_3,\"|11⟩\")\n",
    "        elif Step1_0 == 0 and step1[1] != 0 and step1[2] != 0 and Step1_3 == 0:\n",
    "            print(\"End Result:\")\n",
    "            print(step1[1],\"|01⟩ +\",step1[2],\"|10⟩\")\n",
    "        elif Step1_0 != 0 and step1[1] == 0 and step1[2] == 0 and Step1_3 == 0:\n",
    "            print(\"End Result:\")\n",
    "            print(Step1_0,\"|00⟩ \")\n",
    "        elif Step1_0 == 0 and step1[1] == 0 and step1[2] == 0 and Step1_3 != 0:\n",
    "            print(\"End Result:\")\n",
    "            print(Step1_3,\"|11⟩ \")\n",
    "        else:\n",
    "            print(\"error\")\n",
    "        print(\"\")\n",
    "    \n",
    "\n",
    " "
   ]
  },
  {
   "cell_type": "code",
   "execution_count": 15,
   "metadata": {
    "collapsed": false
   },
   "outputs": [],
   "source": [
    "#CONVERTS FROM STANDARD BASIS TO SIGN BASIS AND VICE VERSA\n",
    "def sign_standard(state):\n",
    "    if state == '+':\n",
    "        state = np.matrix([1/(2**0.5),1/(2**0.5)])\n",
    "        state = np.array(state).flatten()\n",
    "        print(\"Conversion:\")\n",
    "        print(state[0],\"|0⟩ +\", state[1],\"|1⟩\")\n",
    "    elif state== '-': \n",
    "        state = np.matrix([1/(2**0.5),(1)/(2**0.5)])\n",
    "        state = np.array(state).flatten()\n",
    "        print(\"Conversion:\")\n",
    "        print(state[0],\"|0⟩ -\", state[1],\"|1⟩\")\n",
    "    elif state == 0:\n",
    "        state = np.matrix([1/(2**0.5),(1)/(2**0.5)])\n",
    "        state = np.array(state).flatten()\n",
    "        print(\"Conversion:\")\n",
    "        print(state[0],\"|+⟩ +\", state[1],\"|-⟩\")      \n",
    "    elif state == 1:\n",
    "        state = np.matrix([1/(2**0.5),(-1)/(2**0.5)])\n",
    "        state = np.array(state).flatten()\n",
    "        print(\"Conversion:\")\n",
    "        print(state[0],\"|+⟩ \", state[1],\"|-⟩\") \n",
    "    else:\n",
    "        print(\"Error\")"
   ]
  },
  {
   "cell_type": "code",
   "execution_count": 16,
   "metadata": {
    "collapsed": true
   },
   "outputs": [],
   "source": [
    "# COMPUTES THE U DAGGER MATRIX OF A GIVEN MATRIX U\n",
    "def U_dagger(U):    \n",
    "    U_dagger[0,0] = U[0,0]\n",
    "\n",
    "    U_dagger[0,1] = U[1,0]\n",
    "\n",
    "    U_dagger[1,0] = U[0,1]\n",
    "\n",
    "    U_dagger[1,1] = U[1,1]\n",
    "    \n",
    "    print(U_dagger)\n",
    "    return U_dagger"
   ]
  },
  {
   "cell_type": "code",
   "execution_count": 17,
   "metadata": {
    "collapsed": false
   },
   "outputs": [],
   "source": [
    "import cmath\n",
    "def Discrete_Fourier_Transform(N):\n",
    "    fourier_matrix = np.zeros(shape=(N,N), dtype = complex)\n",
    "    real = math.cos((2*math.pi)/N)\n",
    "    imaginary = math.sin((2*math.pi)/N)\n",
    "    w = real + (imaginary)*1j  \n",
    "    for a in range(1,N):\n",
    "        for k in range(1,N):\n",
    "            fourier_matrix[a,k]=(w)**(a*k)\n",
    "    for l in range(0,N):\n",
    "        fourier_matrix[0,l] = 1\n",
    "    for k in range(0,N):\n",
    "        fourier_matrix[k,0] = 1\n",
    "    fourier_matrix = fourier_matrix*(1/(N**0.5))\n",
    "    print(fourier_matrix)\n",
    "    return fourier_matrix"
   ]
  },
  {
   "cell_type": "code",
   "execution_count": 18,
   "metadata": {
    "collapsed": false
   },
   "outputs": [
    {
     "name": "stdout",
     "output_type": "stream",
     "text": [
      "[[ 0.40824829 +0.00000000e+00j  0.40824829 +0.00000000e+00j\n",
      "   0.40824829 +0.00000000e+00j  0.40824829 +0.00000000e+00j\n",
      "   0.40824829 +0.00000000e+00j  0.40824829 +0.00000000e+00j]\n",
      " [ 0.40824829 +0.00000000e+00j  0.20412415 +3.53553391e-01j\n",
      "  -0.20412415 +3.53553391e-01j -0.40824829 +1.58636328e-16j\n",
      "  -0.20412415 -3.53553391e-01j  0.20412415 -3.53553391e-01j]\n",
      " [ 0.40824829 +0.00000000e+00j -0.20412415 +3.53553391e-01j\n",
      "  -0.20412415 -3.53553391e-01j  0.40824829 -3.39934989e-16j\n",
      "  -0.20412415 +3.53553391e-01j -0.20412415 -3.53553391e-01j]\n",
      " [ 0.40824829 +0.00000000e+00j -0.40824829 +1.58636328e-16j\n",
      "   0.40824829 -3.39934989e-16j -0.40824829 +5.43895982e-16j\n",
      "   0.40824829 -7.25194643e-16j -0.40824829 +8.83830971e-16j]\n",
      " [ 0.40824829 +0.00000000e+00j -0.20412415 -3.53553391e-01j\n",
      "  -0.20412415 +3.53553391e-01j  0.40824829 -7.25194643e-16j\n",
      "  -0.20412415 -3.53553391e-01j -0.20412415 +3.53553391e-01j]\n",
      " [ 0.40824829 +0.00000000e+00j  0.20412415 -3.53553391e-01j\n",
      "  -0.20412415 -3.53553391e-01j -0.40824829 +8.83830971e-16j\n",
      "  -0.20412415 +3.53553391e-01j  0.20412415 +3.53553391e-01j]]\n"
     ]
    }
   ],
   "source": [
    "step1 = Discrete_Fourier_Transform(6)\n"
   ]
  },
  {
   "cell_type": "code",
   "execution_count": 19,
   "metadata": {
    "collapsed": false
   },
   "outputs": [
    {
     "name": "stdout",
     "output_type": "stream",
     "text": [
      "[[ 0.40824829 +0.00000000e+00j  0.40824829 +0.00000000e+00j\n",
      "   0.40824829 +0.00000000e+00j  0.40824829 +0.00000000e+00j\n",
      "   0.40824829 +0.00000000e+00j  0.40824829 +0.00000000e+00j]\n",
      " [ 0.40824829 +0.00000000e+00j  0.20412415 +3.53553391e-01j\n",
      "  -0.20412415 +3.53553391e-01j -0.40824829 +1.58636328e-16j\n",
      "  -0.20412415 -3.53553391e-01j  0.20412415 -3.53553391e-01j]\n",
      " [ 0.40824829 +0.00000000e+00j -0.20412415 +3.53553391e-01j\n",
      "  -0.20412415 -3.53553391e-01j  0.40824829 -3.39934989e-16j\n",
      "  -0.20412415 +3.53553391e-01j -0.20412415 -3.53553391e-01j]\n",
      " [ 0.40824829 +0.00000000e+00j -0.40824829 +1.58636328e-16j\n",
      "   0.40824829 -3.39934989e-16j -0.40824829 +5.43895982e-16j\n",
      "   0.40824829 -7.25194643e-16j -0.40824829 +8.83830971e-16j]\n",
      " [ 0.40824829 +0.00000000e+00j -0.20412415 -3.53553391e-01j\n",
      "  -0.20412415 +3.53553391e-01j  0.40824829 -7.25194643e-16j\n",
      "  -0.20412415 -3.53553391e-01j -0.20412415 +3.53553391e-01j]\n",
      " [ 0.40824829 +0.00000000e+00j  0.20412415 -3.53553391e-01j\n",
      "  -0.20412415 -3.53553391e-01j -0.40824829 +8.83830971e-16j\n",
      "  -0.20412415 +3.53553391e-01j  0.20412415 +3.53553391e-01j]]\n",
      "\n",
      "\n",
      "\n",
      "\n",
      "[[  5.77350269e-01 +0.00000000e+00j   0.00000000e+00 +1.12172823e-16j\n",
      "    5.77350269e-01 -2.40370336e-16j  -1.11022302e-16 +3.84592537e-16j\n",
      "    5.77350269e-01 -5.12790050e-16j  -1.66533454e-16 +6.24962873e-16j]]\n"
     ]
    }
   ],
   "source": [
    "step1 = np.matrix([m+0.j, 0+0.j, 0+0.j, m+0.j, 0+0.j, 0+0.j])\n",
    "step2 = Discrete_Fourier_Transform(6)\n",
    "print(\"\")\n",
    "print(\"\")\n",
    "print(\"\")\n",
    "print(\"\")\n",
    "step3 = step1*step2\n",
    "print(step3)\n"
   ]
  },
  {
   "cell_type": "code",
   "execution_count": 20,
   "metadata": {
    "collapsed": false
   },
   "outputs": [
    {
     "name": "stdout",
     "output_type": "stream",
     "text": [
      "period: 6\n"
     ]
    },
    {
     "data": {
      "text/plain": [
       "6"
      ]
     },
     "execution_count": 20,
     "metadata": {},
     "output_type": "execute_result"
    }
   ],
   "source": [
    "\n",
    "def PeriodFinding(base,Number_factoring):\n",
    "    myList = []\n",
    "    exponent = 1\n",
    "    myList.append(base**exponent%(Number_factoring))\n",
    "    exponent = exponent + 1\n",
    "    myList.append(base**exponent%(Number_factoring))\n",
    "    counter = 1\n",
    "    while myList[0] != myList[counter] and counter<=200:\n",
    "        exponent = exponent + 1\n",
    "        counter = counter + 1\n",
    "        result = base**exponent%Number_factoring\n",
    "        myList.append(result)\n",
    "    if counter == 200:\n",
    "        print(\"Computational Capacity does not suffice! This is where a quantum computer is required\")\n",
    "    else:\n",
    "        period = len(myList)-1\n",
    "        print(\"period:\",period)\n",
    "        return period\n",
    "PeriodFinding(2,21)"
   ]
  },
  {
   "cell_type": "code",
   "execution_count": 21,
   "metadata": {
    "collapsed": false
   },
   "outputs": [],
   "source": [
    "import matplotlib.pyplot as plt\n",
    "import numpy as np\n",
    "import math\n",
    "%matplotlib inline\n",
    "debug =0 \n",
    "\n",
    "def prob(q,period,j):\n",
    "    M = int(q/period)\n",
    "    sum = 0\n",
    "    for a in range(0,M-1):\n",
    "        sum = sum + (np.cos(2*math.pi*(j*period*a/q))+1j*np.sin(2*math.pi*(j*period*a/q)))\n",
    "        \n",
    "    result = (1/(q*M))*(abs(sum)**2)\n",
    "    return result\n",
    "def plot_prob(x_axis,y_axis,q,period):\n",
    "    problist = []\n",
    "    for j in range(0,x_axis):\n",
    "        problist.append((prob(q,period,j)))\n",
    "    plt.ylim(ymin=0)\n",
    "    plt.ylim(ymax=y_axis)\n",
    "    plt.xlim(xmin=0)\n",
    "    plt.xlim(xmax=x_axis)\n",
    "    plt.plot(range(0,x_axis),problist)\n",
    "    tmpList = np.array(problist)\n",
    "    sortedIndex = np.argsort(tmpList, axis=0)[::-1]\n",
    "    maxindex = sortedIndex[0:10]\n",
    "    print(maxindex)\n",
    "    return maxindex"
   ]
  },
  {
   "cell_type": "code",
   "execution_count": 22,
   "metadata": {
    "collapsed": false
   },
   "outputs": [],
   "source": [
    "def determine_q(Number_factoring):\n",
    "    q = 0\n",
    "    while (Number_factoring**2)> 2**q or 2**q > 2*(Number_factoring**2):\n",
    "        q = q + 1\n",
    "    print(\"q = \",q)\n",
    "    return q\n",
    "    "
   ]
  },
  {
   "cell_type": "code",
   "execution_count": 23,
   "metadata": {
    "collapsed": false
   },
   "outputs": [
    {
     "name": "stdout",
     "output_type": "stream",
     "text": [
      "q =  8\n",
      "period: 4\n",
      "[   0  832  992 1472  960  928 1344  896  480  864]\n"
     ]
    },
    {
     "data": {
      "text/plain": [
       "array([   0,  832,  992, 1472,  960,  928, 1344,  896,  480,  864])"
      ]
     },
     "execution_count": 23,
     "metadata": {},
     "output_type": "execute_result"
    },
    {
     "data": {
      "image/png": "[encoded data removed]",
      "text/plain": [
       "<matplotlib.figure.Figure at 0x106b27c50>"
      ]
     },
     "metadata": {},
     "output_type": "display_data"
    }
   ],
   "source": [
    "step1 = determine_q(15)\n",
    "step2 = PeriodFinding(step1,15)\n",
    "plot_prob(1500,0.15,2**step1,step1)"
   ]
  },
  {
   "cell_type": "code",
   "execution_count": 24,
   "metadata": {
    "collapsed": false
   },
   "outputs": [],
   "source": [
    "def gcd(Larger_number,Smaller_number):\n",
    "    remainderlist = []\n",
    "    i=0\n",
    "    remainder = Larger_number % Smaller_number\n",
    "    remainderlist.append(remainder)\n",
    "    while remainder != 1:  \n",
    "        remainder = Larger_number % Smaller_number\n",
    "        if remainder == 0:\n",
    "            break\n",
    "        remainderlist.append(remainder)\n",
    "        Larger_number = Smaller_number\n",
    "        Smaller_number = remainder\n",
    "        i = i+1\n",
    "    if remainderlist[i] == 0:\n",
    "        remainderlist[i] = Smaller_number\n",
    "    print(\"gcd:\",remainderlist[i])\n",
    "    return(remainderlist[i])"
   ]
  },
  {
   "cell_type": "code",
   "execution_count": 25,
   "metadata": {
    "collapsed": false
   },
   "outputs": [],
   "source": [
    "def find_x(Number_factoring,base):\n",
    "    if base == 1:\n",
    "        base=base+1\n",
    "    while gcd(Number_factoring,base)!=1:\n",
    "        base=base+1\n",
    "    print(\"base :\",base)\n",
    "    return base"
   ]
  },
  {
   "cell_type": "code",
   "execution_count": null,
   "metadata": {
    "collapsed": true
   },
   "outputs": [],
   "source": []
  },
  {
   "cell_type": "code",
   "execution_count": 26,
   "metadata": {
    "collapsed": false
   },
   "outputs": [
    {
     "name": "stdout",
     "output_type": "stream",
     "text": [
      "gcd: 2\n",
      "gcd: 3\n",
      "gcd: 4\n",
      "gcd: 1\n",
      "base : 5\n",
      "period: 6\n",
      "[  0 128 256 384 299 427 171  43  85 213]\n"
     ]
    },
    {
     "data": {
      "image/png": "[encoded data removed]",
      "text/plain": [
       "<matplotlib.figure.Figure at 0x106cc2dd8>"
      ]
     },
     "metadata": {},
     "output_type": "display_data"
    }
   ],
   "source": [
    "Number_factoring = 36\n",
    "num_qubits = 2**8\n",
    "\n",
    "step1 = find_x(Number_factoring,1)\n",
    "step2 = PeriodFinding(step1,Number_factoring)\n",
    "step3 = plot_prob(500,0.1,num_qubits,step2)"
   ]
  },
  {
   "cell_type": "code",
   "execution_count": 31,
   "metadata": {
    "collapsed": false
   },
   "outputs": [],
   "source": [
    "def useable_values(problist):\n",
    "    list = step3\n",
    "    useful_list = []\n",
    "    for i in range (0,len(list)):\n",
    "        if list[i]<num_qubits and list[i] != 0 and num_qubits%list[i]!=0:\n",
    "            useful_list.append(list[i])\n",
    "    print(useful_list)\n",
    "    return useful_list"
   ]
  },
  {
   "cell_type": "code",
   "execution_count": 33,
   "metadata": {
    "collapsed": false
   },
   "outputs": [
    {
     "name": "stdout",
     "output_type": "stream",
     "text": [
      "[171, 43, 85, 213]\n"
     ]
    }
   ],
   "source": [
    "step4 = useable_values(step3) "
   ]
  },
  {
   "cell_type": "code",
   "execution_count": 34,
   "metadata": {
    "collapsed": false
   },
   "outputs": [],
   "source": [
    "def Calc_Convergent(num_qubits, xvalue_period):\n",
    "    quotient = []\n",
    "    numerators = []\n",
    "    denominators = []\n",
    "    numerator = num_qubits\n",
    "    denominator = xvalue_period\n",
    "    count = 0\n",
    "    temp = 0\n",
    "    while numerator != 1 and count<10 and numerator != 0 and denominator != 0:\n",
    "        whole_number = numerator//denominator\n",
    "        quotient.append(whole_number)\n",
    "        numerator = numerator%denominator\n",
    "        numerators.append(numerator)\n",
    "        denominators.append(denominator)\n",
    "        denominator = numerators[count]\n",
    "        numerator = denominators[count]\n",
    "        count= count + 1\n",
    "    print(numerators)\n",
    "    print(denominators)\n",
    "    print(quotient)\n",
    "    return numerators,denominators,quotient\n",
    "    "
   ]
  },
  {
   "cell_type": "code",
   "execution_count": 35,
   "metadata": {
    "collapsed": false
   },
   "outputs": [
    {
     "name": "stdout",
     "output_type": "stream",
     "text": [
      "[85, 1, 0]\n",
      "[171, 85, 1]\n",
      "[1, 2, 85]\n"
     ]
    }
   ],
   "source": [
    "n,d,q = Calc_Convergent(num_qubits,step4[0])"
   ]
  },
  {
   "cell_type": "code",
   "execution_count": 40,
   "metadata": {
    "collapsed": false
   },
   "outputs": [
    {
     "name": "stdout",
     "output_type": "stream",
     "text": [
      "1.0\n",
      "1.0\n"
     ]
    }
   ],
   "source": [
    "i=0\n",
    "def repeat(a,i):\n",
    "    if len(a)==1:\n",
    "        return a[0]\n",
    "    if i >= len(a)-1:\n",
    "        return 1\n",
    "    else:\n",
    "        c = 1/(a[i])\n",
    "        answer = 1/(a[i+1] + repeat(a,i+1))\n",
    "        print(round(answer + a[0]))\n",
    "        return round(answer + a[0])\n",
    "      \n",
    "step5 = repeat(q,i)"
   ]
  },
  {
   "cell_type": "code",
   "execution_count": 41,
   "metadata": {
    "collapsed": false
   },
   "outputs": [
    {
     "name": "stdout",
     "output_type": "stream",
     "text": [
      "2.0\n",
      "3.0\n",
      "4.0\n",
      "5.0\n",
      "6.0\n"
     ]
    }
   ],
   "source": [
    "def quantum_period_finding(continued_fraction_result):\n",
    "    a=1\n",
    "    while step1**(a*continued_fraction_result)%Number_factoring != 1:\n",
    "        a = a+continued_fraction_result\n",
    "        print(a)\n",
    "    return a\n",
    "step6 = quantum_period_finding(step5)\n"
   ]
  },
  {
   "cell_type": "code",
   "execution_count": 42,
   "metadata": {
    "collapsed": false
   },
   "outputs": [
    {
     "name": "stdout",
     "output_type": "stream",
     "text": [
      "Quantum Algorithm is a success!\n"
     ]
    }
   ],
   "source": [
    "def check(classical,quantum):\n",
    "    if round(step2) == round(step6):\n",
    "        print(\"Quantum Algorithm is a success!\")\n",
    "        return round(step6)\n",
    "    else:\n",
    "        print(\"Error occured\")\n",
    "step7 = check(step2,step6)"
   ]
  },
  {
   "cell_type": "code",
   "execution_count": 43,
   "metadata": {
    "collapsed": false
   },
   "outputs": [
    {
     "name": "stdout",
     "output_type": "stream",
     "text": [
      "gcd: 4.0\n",
      "gcd: 2.0\n",
      "factors:  4.0 , 2.0 , 9.0 , 18.0\n"
     ]
    }
   ],
   "source": [
    "def factor_computing(period):\n",
    "    first_value = (period/2)+1\n",
    "    second_value = (period/2)-1\n",
    "    first_factor = round(gcd(first_value,Number_factoring))\n",
    "    second_factor = round(gcd(second_value,Number_factoring))\n",
    "    print(\"factors: \",first_factor,\",\" , second_factor, \",\",(Number_factoring/first_factor),\",\",(Number_factoring/second_factor))\n",
    "step8 = factor_computing(step7)"
   ]
  }
 ],
 "metadata": {
  "kernelspec": {
   "display_name": "Python 3",
   "language": "python",
   "name": "python3"
  },
  "language_info": {
   "codemirror_mode": {
    "name": "ipython",
    "version": 3
   },
   "file_extension": ".py",
   "mimetype": "text/x-python",
   "name": "python",
   "nbconvert_exporter": "python",
   "pygments_lexer": "ipython3",
   "version": "3.5.0"
  }
 },
 "nbformat": 4,
 "nbformat_minor": 0
}
